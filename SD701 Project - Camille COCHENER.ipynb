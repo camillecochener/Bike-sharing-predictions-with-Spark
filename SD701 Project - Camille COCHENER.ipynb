{
 "cells": [
  {
   "cell_type": "markdown",
   "metadata": {},
   "source": [
    "Novembre 2019\n",
    "<div align='center'><h2>SD701 Project - London bike sharing</h2></div>\n",
    "<div align='center'>Camille COCHENER</div>\n",
    "\n",
    "<img src=\"https://st2.depositphotos.com/1671840/7755/i/950/depositphotos_77554992-stock-photo-london-rental-bike.jpg\" width=\"400\"/>\n",
    "\n",
    "<b>Contexte</b>\n",
    "<p><div align='justify'>Les systèmes de vélos en libre-service ont été initiés par le projet vélo blanc du mouvement Provo à Amsterdam dans les années 60. Ce mouvement avait pour but de supprimer la circulation automobile et les embouteillages. Aujourd'hui, les bornes de vélos en libre-service sont largement répandues dans la plupart des grandes villes (Paris, New York, Londres...). Ce service de mobilité permet d'effectuer des déplacements de proximité en milieu urbain. C'est une forme de consommation collaborative qui permet de palier au vol des vélos personnels, leur maintenance et à leur stationnement à domicile.  \n",
    "Dans une ville comme Paris ou Londres, on retrouve un certain nombre de bornes libre-service où l'on peut emprunter un vélo pour se déplacer. Mais il arrive très souvent que l'usager se retrouve face à une borne complètement vide, il ne peut alors pas emprunter de vélo, ou bien pleine, et il ne peut pas déposer son vélo là il l'avait souhaité. Ces deux points altèrent la satisfaction de l'usager et peuvent entrainer des pertes de clients pour l'entreprise. Il est donc particulièrement important de bien gérer le nombre de vélos disponibles à chaque borne.</div></p>\n",
    "\n",
    "<b>Objectif</b>\n",
    "<p><div align='justify'>Ce projet a pour objectif de construire un modèle prédictif du nombre de vélos partagés par heure à une borne à Londres.</div></p>\n",
    "\n",
    "<b>Les données</b>\n",
    "<p><div align='justify'>Le jeu de données contient 17414 lignes qui correspondent aux différents relevés à une heure et un jour donné. On supposera que ces données représentent un échantillon d'un jeu de données trop volumineux pour la mémoire et les temps de calcul, nécessitant ainsi l'utilisation de Spark.  \n",
    "Pour chaque relevé, on dispose des informations suivantes :     \n",
    "<ul>\n",
    "<li> timestamp : date et heure de la journée </li>\n",
    "<li> cnt : nombre de partage par heure </li>\n",
    "<li> t1 : température mesurée (°C)</li>\n",
    "<li> t2 : température ressentie (°C)</li>\n",
    "<li> hum : humidité de l'air (%)</li>\n",
    "<li> wind_speed : vitesse du vent (km/h)</li>\n",
    "<li> weather_code : code météorologique</li>\n",
    "<li> is_holiday : le jour est-il un jour de vacances</li>\n",
    "<li> is_weekend : le jour est-il un jour de weekend</li>\n",
    "<li> season : saison de l'année</li>\n",
    "</ul>\n",
    "</div></p>\n",
    "\n",
    "<p><div align='justify'>Le jeu de données est issu de trois sources :  \n",
    "<ul>\n",
    "<li>https://cycling.data.tfl.gov.uk/ données historiques de partage de vélo à Londres 'Powered by TfL Open Data'</li>\n",
    "    <li>freemeteo.com - données météorologiques</li>\n",
    "    <li>https://www.gov.uk/bank-holidays du 01/01/2015 au 31/12/2016</li></ul>\n",
    "</div></p>\n",
    "\n",
    "<b>Etapes d'analyse</b>\n",
    "<p>Cette étude se déroulera en deux temps : \n",
    "<ol>\n",
    "    <b><li>Exploration des données</li></b>\n",
    "        <ul>\n",
    "            <li>Description des données (statistiques descriptives, valeurs manquantes)</li>\n",
    "            <li>Création de variables à partir de <i>timestamp</i></li>\n",
    "            <li>Influence des variables temporelles</li>\n",
    "            <li>Influence des variables météorologiques</li>\n",
    "            <li>Distribution de la variable à expliquer</li>\n",
    "        </ul>  \n",
    "    <b><li>Machine learning</li></b>\n",
    "        <ul>\n",
    "            <li>Préparation des données pour la modélisation</li>\n",
    "            <li>Modélisation</li>\n",
    "            <li>Prédiction et évaluation du modèle</li>\n",
    "            <li>Analyse du modèle</li>\n",
    "            <li>Pistes d'amélioration</li>\n",
    "    </ul>\n",
    "    </ol>\n",
    "    </p>\n",
    "\n",
    "<p><div align='justify'>Ce notebook tourne avec Python 3.6.5 et Spark 2.4.4.</div></p>"
   ]
  },
  {
   "cell_type": "markdown",
   "metadata": {},
   "source": [
    "<b>Création de l'environnement Spark</b>\n",
    "<div align='justify'>Une session Spark est créée pour pouvoir accéder à toutes les fonctionnalités de Spark sans avoir à créer différents contextes spécifiques.</div>"
   ]
  },
  {
   "cell_type": "code",
   "execution_count": 76,
   "metadata": {},
   "outputs": [],
   "source": [
    "import findspark\n",
    "findspark.init()\n",
    "import pyspark\n",
    "from pyspark.sql import SparkSession"
   ]
  },
  {
   "cell_type": "code",
   "execution_count": 77,
   "metadata": {},
   "outputs": [],
   "source": [
    "spark = SparkSession.builder.appName(\n",
    "    'London bike sharing').getOrCreate()"
   ]
  },
  {
   "cell_type": "markdown",
   "metadata": {},
   "source": [
    "<b>Librairies utilisées</b>"
   ]
  },
  {
   "cell_type": "code",
   "execution_count": 78,
   "metadata": {},
   "outputs": [],
   "source": [
    "import pandas as pd\n",
    "import datetime\n",
    "import matplotlib.pyplot as plt\n",
    "import seaborn as sns\n",
    "from pyspark.sql.functions import year, month, dayofmonth, hour, col\n",
    "from pyspark.sql import functions as fct\n",
    "from pyspark.sql.functions import mean, min, max"
   ]
  },
  {
   "cell_type": "markdown",
   "metadata": {},
   "source": [
    "<b>Chargement des données</b>\n",
    "<p><div align='justify'>Les données sont chargées dans un DataFrame afin de faciliter leur manipulation.</div></p>"
   ]
  },
  {
   "cell_type": "code",
   "execution_count": 79,
   "metadata": {},
   "outputs": [],
   "source": [
    "# Importation des données\n",
    "bike = spark.read.csv(\"london_bike_sharing.csv\", header=True, inferSchema=True)"
   ]
  },
  {
   "cell_type": "markdown",
   "metadata": {},
   "source": [
    "Aperçu des données :"
   ]
  },
  {
   "cell_type": "code",
   "execution_count": 80,
   "metadata": {},
   "outputs": [
    {
     "name": "stdout",
     "output_type": "stream",
     "text": [
      "+-------------------+---+---+---+-----+----------+------------+----------+----------+------+\n",
      "|          timestamp|cnt| t1| t2|  hum|wind_speed|weather_code|is_holiday|is_weekend|season|\n",
      "+-------------------+---+---+---+-----+----------+------------+----------+----------+------+\n",
      "|2015-01-04 00:00:00|182|3.0|2.0| 93.0|       6.0|         3.0|       0.0|       1.0|   3.0|\n",
      "|2015-01-04 01:00:00|138|3.0|2.5| 93.0|       5.0|         1.0|       0.0|       1.0|   3.0|\n",
      "|2015-01-04 02:00:00|134|2.5|2.5| 96.5|       0.0|         1.0|       0.0|       1.0|   3.0|\n",
      "|2015-01-04 03:00:00| 72|2.0|2.0|100.0|       0.0|         1.0|       0.0|       1.0|   3.0|\n",
      "|2015-01-04 04:00:00| 47|2.0|0.0| 93.0|       6.5|         1.0|       0.0|       1.0|   3.0|\n",
      "+-------------------+---+---+---+-----+----------+------------+----------+----------+------+\n",
      "only showing top 5 rows\n",
      "\n"
     ]
    }
   ],
   "source": [
    "bike.show(5)"
   ]
  },
  {
   "cell_type": "markdown",
   "metadata": {},
   "source": [
    "Le jeu de données est constitué de :\n",
    "* 2 variables nominales <i>season</i> et <i>weather_code</i>, chacune à 4 modalités (de 1.0 à 4.0)\n",
    "* 2 variables binaires <i>is_holiday</i> et <i>is_weekend</i> (prend la valeur 0.0 ou 1.0)\n",
    "* 4 variables quantitatives continues <i>t1</i>, <i>t2</i>, <i>hum</i> et <i>wind_speed</i>\n",
    "* 1 variable temporelle <i>timestamp</i>\n",
    "* <i>cnt</i> la variable à expliquer"
   ]
  },
  {
   "cell_type": "markdown",
   "metadata": {},
   "source": [
    "<h2><font color='darkred'>1. Exploration des données</font></h2>"
   ]
  },
  {
   "cell_type": "markdown",
   "metadata": {},
   "source": [
    "<div align='justify'>La première partie du projet consiste à explorer les données afin de mieux comprendre leur contenu. On étudie les indicateurs de position et de dispersion, la présence ou non de valeurs manquantes, la présence de valeurs abberantes, la distribution des variables, les éventuelles corrélations entre les variables explicatives et entre chaque variable explicative et la variable à expliquer.</div>"
   ]
  },
  {
   "cell_type": "markdown",
   "metadata": {},
   "source": [
    "<b><h3><font color='darkblue'>a) Description des données</font></h3></b>\n",
    "<div align='justify'><b>Types des données</b></div>"
   ]
  },
  {
   "cell_type": "code",
   "execution_count": 81,
   "metadata": {},
   "outputs": [
    {
     "name": "stdout",
     "output_type": "stream",
     "text": [
      "root\n",
      " |-- timestamp: timestamp (nullable = true)\n",
      " |-- cnt: integer (nullable = true)\n",
      " |-- t1: double (nullable = true)\n",
      " |-- t2: double (nullable = true)\n",
      " |-- hum: double (nullable = true)\n",
      " |-- wind_speed: double (nullable = true)\n",
      " |-- weather_code: double (nullable = true)\n",
      " |-- is_holiday: double (nullable = true)\n",
      " |-- is_weekend: double (nullable = true)\n",
      " |-- season: double (nullable = true)\n",
      "\n"
     ]
    }
   ],
   "source": [
    "bike.printSchema()"
   ]
  },
  {
   "cell_type": "markdown",
   "metadata": {},
   "source": [
    "<div align='justify'>La plupart des données sont numériques. Il n'y aura donc pas besoin d'indexer de variables pour la modélisation.</div>"
   ]
  },
  {
   "cell_type": "markdown",
   "metadata": {},
   "source": [
    "<b>Statistiques descriptives pour les variables continues</b>"
   ]
  },
  {
   "cell_type": "code",
   "execution_count": 82,
   "metadata": {},
   "outputs": [
    {
     "name": "stdout",
     "output_type": "stream",
     "text": [
      "+-------+------------------+------------------+-----------------+------------------+------------------+\n",
      "|summary|               cnt|                t1|               t2|               hum|        wind_speed|\n",
      "+-------+------------------+------------------+-----------------+------------------+------------------+\n",
      "|  count|             17414|             17414|            17414|             17414|             17414|\n",
      "|   mean|1143.1016423567244|12.468090808162016|11.52083572604418| 72.32495405995176|15.913063244133076|\n",
      "| stddev|1085.1080679362196|  5.57181756292053|6.615144673127889|14.313186095310893|7.8945703293611755|\n",
      "|    min|                 0|              -1.5|             -6.0|              20.5|               0.0|\n",
      "|    max|              7860|              34.0|             34.0|             100.0|              56.5|\n",
      "+-------+------------------+------------------+-----------------+------------------+------------------+\n",
      "\n"
     ]
    }
   ],
   "source": [
    "# Affichage des statistiques descriptives\n",
    "num_cols = ['cnt', 't1', 't2', 'hum', 'wind_speed']\n",
    "bike.select(num_cols).describe().show()"
   ]
  },
  {
   "cell_type": "markdown",
   "metadata": {},
   "source": [
    "> <div align='justify'>Les variables quantitatives n'ont pas de valeurs manquantes car le nombre de lignes non vides est égal au nombre de lignes totales. Par ailleurs, il n'y a pas non plus de valeurs aberantes. Le nombre de location est toujours positif (<i>cnt</i>), les valeurs de températures s'échelonnent entre -6.0 et 34.0°C, ce qui est normal pour Londres. L'humidité est comprise entre 20.5 et 100.0%, et la vitesse du vent entre 0.0 et 56.5 km/h.</div>"
   ]
  },
  {
   "cell_type": "markdown",
   "metadata": {},
   "source": [
    "<b>Statistiques descriptives pour les variables catégorielles</b>"
   ]
  },
  {
   "cell_type": "code",
   "execution_count": 83,
   "metadata": {},
   "outputs": [
    {
     "name": "stdout",
     "output_type": "stream",
     "text": [
      "+------------+-----+\n",
      "|weather_code|count|\n",
      "+------------+-----+\n",
      "|         7.0| 2141|\n",
      "|         1.0| 6150|\n",
      "|         4.0| 1464|\n",
      "|         3.0| 3551|\n",
      "|         2.0| 4034|\n",
      "|        10.0|   14|\n",
      "|        26.0|   60|\n",
      "+------------+-----+\n",
      "\n",
      "+----------+-----+\n",
      "|is_holiday|count|\n",
      "+----------+-----+\n",
      "|       0.0|17030|\n",
      "|       1.0|  384|\n",
      "+----------+-----+\n",
      "\n",
      "+----------+-----+\n",
      "|is_weekend|count|\n",
      "+----------+-----+\n",
      "|       0.0|12444|\n",
      "|       1.0| 4970|\n",
      "+----------+-----+\n",
      "\n",
      "+------+-----+\n",
      "|season|count|\n",
      "+------+-----+\n",
      "|   0.0| 4394|\n",
      "|   1.0| 4387|\n",
      "|   3.0| 4330|\n",
      "|   2.0| 4303|\n",
      "+------+-----+\n",
      "\n"
     ]
    }
   ],
   "source": [
    "bike.groupBy('weather_code').count().show()\n",
    "bike.groupBy('is_holiday').count().show()\n",
    "bike.groupBy('is_weekend').count().show()\n",
    "bike.groupBy('season').count().show()"
   ]
  },
  {
   "cell_type": "markdown",
   "metadata": {},
   "source": [
    "> <div align='justify'>Du côté des variables catégorielles, on peut voir que la variable <i>weather_code</i> n'est pas bien proportionnée pour deux catégories (10.0 et 26.0) qui sont largement sous-représentées. Il est judicieux de retirer ces catégories car elles n'apporteront pas d'informations.  \n",
    "    Par ailleurs, la variable <i>is_holiday</i> est également mal proportionnée car plus de 95% correspond à des zéros. Quasiment la totalité des relevés est donc issu de jours hors vacances. Il est également pertinent de retirer cette variable.</div>"
   ]
  },
  {
   "cell_type": "code",
   "execution_count": 84,
   "metadata": {},
   "outputs": [],
   "source": [
    "# On retire les modalités 10.0 et 26.0 de la variable weather_code\n",
    "bike = bike.filter((bike.weather_code != 10.0) & (bike.weather_code != 26.0))"
   ]
  },
  {
   "cell_type": "code",
   "execution_count": 85,
   "metadata": {},
   "outputs": [],
   "source": [
    "# On retire la variable is_holiday\n",
    "bike = bike.drop('is_holiday')"
   ]
  },
  {
   "cell_type": "markdown",
   "metadata": {},
   "source": [
    "<b><font color='darkblue'><h3>b) Création de variables à partir de timestamp</h3></font></b>\n",
    "<p><div align='justify'>La variable temporelle <i>timestamp</i> ne peut pas être utilisée telle quelle. Il faut en extraire les différentes composantes, <i>i.e</i> le mois, le jour, l'heure de la journée. Ces informations sont importantes à prendre en compte car intuitivement, on s'attend à ce qu'il y ait des variations du nombre de vélos partagés au cours de la journée, mais également entre le jour et la nuit par exemple. La variable <i>timestamp</i> a permis la création de trois variables : <i>year</i>, <i>month</i> et <i>hour</i>.</div></p>"
   ]
  },
  {
   "cell_type": "code",
   "execution_count": 86,
   "metadata": {},
   "outputs": [],
   "source": [
    "# Création des trois colonnes\n",
    "bike = bike \\\n",
    "    .withColumn('year', year(col('timestamp'))) \\\n",
    "    .withColumn('month', month(col('timestamp'))) \\\n",
    "    .withColumn('hour', hour(col('timestamp')))"
   ]
  },
  {
   "cell_type": "markdown",
   "metadata": {},
   "source": [
    "L'enjeu étant de prédire le nombre optimal de vélos à mettre à la borne, la variable <i>year</i> sera moins intéressante car elle ne représente pas un événement répétitif comme le mois ou le jour. Nous pouvons la supprimer."
   ]
  },
  {
   "cell_type": "code",
   "execution_count": 87,
   "metadata": {},
   "outputs": [],
   "source": [
    "# On retire la variable year\n",
    "bike = bike.drop('year')"
   ]
  },
  {
   "cell_type": "markdown",
   "metadata": {},
   "source": [
    "<div align='justify'>On retire également la variable <i>timestamp</i> à partir desquelles ont été créées les nouvelles variables car elle ne servira pas à modéliser la variable <i>cnt</i>.</div>"
   ]
  },
  {
   "cell_type": "code",
   "execution_count": 88,
   "metadata": {},
   "outputs": [],
   "source": [
    "# On retire la variable timestamp\n",
    "bike = bike.drop('timestamp')"
   ]
  },
  {
   "cell_type": "markdown",
   "metadata": {},
   "source": [
    "Il est possible de représenter graphiquement l'évolution du nombre de vélos loués par heure en fonction du temps."
   ]
  },
  {
   "cell_type": "markdown",
   "metadata": {},
   "source": [
    "<b><font color='darkblue'><h3>c) Influence des variables temporelles</h3></font></b>\n",
    "\n",
    "- <b>Effet des mois de l'année</b>"
   ]
  },
  {
   "cell_type": "code",
   "execution_count": 89,
   "metadata": {},
   "outputs": [
    {
     "data": {
      "text/plain": [
       "Text(0.5, 0, \"Mois de l'année\")"
      ]
     },
     "execution_count": 89,
     "metadata": {},
     "output_type": "execute_result"
    },
    {
     "data": {
      "image/png": "[encoded data removed]",
      "text/plain": [
       "<Figure size 432x288 with 1 Axes>"
      ]
     },
     "metadata": {},
     "output_type": "display_data"
    }
   ],
   "source": [
    "# Graphique de l'évolution du nombre de partage en fonction des mois de l'année\n",
    "fig, ax = plt.subplots()\n",
    "df_bike = bike.toPandas()\n",
    "sns.boxplot(data=df_bike, x='month', y='cnt', ax=ax)\n",
    "ax.set_title(\"Figure 1 : Evolution du nombre de partage\\nde vélos au cours de l'année\", fontweight='bold')\n",
    "ax.set_ylabel('Nombre de partage')\n",
    "ax.set_xlabel(\"Mois de l'année\")"
   ]
  },
  {
   "cell_type": "markdown",
   "metadata": {},
   "source": [
    "> <div align='justify'>Le nombre de partages augmente progressivement de janvier à juin/juillet puis diminue progressivement jusqu'à décembre. Cette tendance peut s'expliquer par l'effet du changement des saisons au cours de l'année.</div>\n",
    "\n",
    "<div align='justify'>Ensuite, les fluctuations du nombre de vélos partagés ont été observées au cours de la journée, en fonction de : si le jour est travaillé ou non et si c'est un jour de vacances scolaires ou non.</div>\n",
    "\n",
    "- <b>Effet de l'heure de la journée</b>"
   ]
  },
  {
   "cell_type": "code",
   "execution_count": 90,
   "metadata": {},
   "outputs": [
    {
     "data": {
      "text/plain": [
       "Text(0.5, 0, 'Heure de la journée')"
      ]
     },
     "execution_count": 90,
     "metadata": {},
     "output_type": "execute_result"
    },
    {
     "data": {
      "image/png": "[encoded data removed]",
      "text/plain": [
       "<Figure size 432x288 with 1 Axes>"
      ]
     },
     "metadata": {},
     "output_type": "display_data"
    },
    {
     "data": {
      "image/png": "[encoded data removed]",
      "text/plain": [
       "<Figure size 432x288 with 1 Axes>"
      ]
     },
     "metadata": {},
     "output_type": "display_data"
    }
   ],
   "source": [
    "# Graphique de l'évolution du nombre de partage au cours d'une journée travaillée\n",
    "fig, ax = plt.subplots()\n",
    "df_bike = bike.toPandas()\n",
    "sns.boxplot(data=df_bike[df_bike[\"is_weekend\"]==0], x='hour', y='cnt', ax=ax)\n",
    "ax.set_title(\"Figure 2a : Evolution du nombre de partage\\nde vélos au cours d'une journée travaillée\", fontweight='bold')\n",
    "ax.set_ylabel('Nombre de partage')\n",
    "ax.set_xlabel(\"Heure de la journée\")\n",
    "\n",
    "# Graphique de l'évolution du nombre de partage au cours d'une journée non travaillée\n",
    "fig, ax = plt.subplots()\n",
    "df_bike = bike.toPandas()\n",
    "sns.boxplot(data=df_bike[df_bike[\"is_weekend\"]==1], x='hour', y='cnt', ax=ax)\n",
    "ax.set_title(\"Figure 2b : Evolution du nombre de partage\\nde vélos au cours d'une journée non travaillée\", fontweight='bold')\n",
    "ax.set_ylabel('Nombre de partage')\n",
    "ax.set_xlabel(\"Heure de la journée\")"
   ]
  },
  {
   "cell_type": "markdown",
   "metadata": {},
   "source": [
    "> <div align='justify'>Sur le premier graphique (Figure 2a), on peut remarquer qu'au cours d'une journée travaillée, on distingue des pics entre 6h-10h et 16h-20h, qui correspondent aux heures de pointes d'une journée de travail. Entre 10h et 16h, ce sont les heures creuses. En revanche, on peut voir sur la Figure 2b, qu'au cours d'une journée de week-end, le nombre de vélos partagés est globalement important (de 1000 à 2000 en moyenne) entre 9h et 19h (quasiment toute la journée). La nuit, ce nombre est faible (inférieur à 500 en moyenne).  \n",
    "Il y a également une différence nette entre le nombre de vélos partagés la nuit (entre 21h et 6h du matin) et la journée (entre 7h et 20h).</div>"
   ]
  },
  {
   "cell_type": "markdown",
   "metadata": {},
   "source": [
    "<b><font color='darkblue'><h3>d) Influence des variables météorologiques</h3></font></b>\n",
    "\n",
    "- <b>Effet de la température</b>"
   ]
  },
  {
   "cell_type": "code",
   "execution_count": 91,
   "metadata": {},
   "outputs": [
    {
     "data": {
      "text/plain": [
       "(array([-5.,  0.,  5., 10., 15., 20., 25., 30., 35., 40.]),\n",
       " <a list of 10 Text xticklabel objects>)"
      ]
     },
     "execution_count": 91,
     "metadata": {},
     "output_type": "execute_result"
    },
    {
     "data": {
      "image/png": "[encoded data removed]",
      "text/plain": [
       "<Figure size 432x288 with 1 Axes>"
      ]
     },
     "metadata": {},
     "output_type": "display_data"
    }
   ],
   "source": [
    "# Graphique de l'évolution du nombre de partage en fonction de la température\n",
    "fig, ax = plt.subplots()\n",
    "temp = bike.groupby('t1').mean('cnt')\n",
    "df_temp = temp.toPandas().round(3)\n",
    "sns.regplot(data=df_temp, x='t1', y='avg(cnt)', ax=ax, fit_reg=False)\n",
    "ax.set_title(\"Figure 3a : Evolution du nombre de partage\\nde vélos en fonction de la température\", fontweight='bold')\n",
    "ax.set_ylabel('Nombre de partage')\n",
    "ax.set_xlabel(\"Température\")\n",
    "plt.xticks(rotation=45)"
   ]
  },
  {
   "cell_type": "code",
   "execution_count": 92,
   "metadata": {},
   "outputs": [
    {
     "data": {
      "text/plain": [
       "(array([-10.,  -5.,   0.,   5.,  10.,  15.,  20.,  25.,  30.,  35.,  40.]),\n",
       " <a list of 11 Text xticklabel objects>)"
      ]
     },
     "execution_count": 92,
     "metadata": {},
     "output_type": "execute_result"
    },
    {
     "data": {
      "image/png": "[encoded data removed]",
      "text/plain": [
       "<Figure size 432x288 with 1 Axes>"
      ]
     },
     "metadata": {},
     "output_type": "display_data"
    }
   ],
   "source": [
    "# Graphique de l'évolution du nombre de partage en fonction de la température ressentie\n",
    "fig, ax = plt.subplots()\n",
    "temp2 = bike.groupby('t2').mean('cnt')\n",
    "df_temp2 = temp2.toPandas().round(3)\n",
    "sns.regplot(data=df_temp2, x='t2', y='avg(cnt)', ax=ax, fit_reg=False)\n",
    "ax.set_title(\"Figure 3b : Evolution du nombre de partage\\nde vélos en fonction de la température ressentie\", fontweight='bold')\n",
    "ax.set_ylabel('Nombre de partage')\n",
    "ax.set_xlabel(\"Température ressentie\")\n",
    "plt.xticks(rotation=45)"
   ]
  },
  {
   "cell_type": "markdown",
   "metadata": {},
   "source": [
    "> <div align='justify'>Pour les deux types de température, il y a une forte corrélation avec le nombre de partages de vélos. C'est une variable qui semble très influente.  \n",
    "Comme les deux tendances d'évolution sur les deux graphiques sont très similaires, étudions la corrélation entre les deux types de température.</div>"
   ]
  },
  {
   "cell_type": "code",
   "execution_count": 93,
   "metadata": {},
   "outputs": [
    {
     "data": {
      "text/plain": [
       "(array([-5.,  0.,  5., 10., 15., 20., 25., 30., 35., 40.]),\n",
       " <a list of 10 Text xticklabel objects>)"
      ]
     },
     "execution_count": 93,
     "metadata": {},
     "output_type": "execute_result"
    },
    {
     "data": {
      "image/png": "[encoded data removed]",
      "text/plain": [
       "<Figure size 432x288 with 1 Axes>"
      ]
     },
     "metadata": {},
     "output_type": "display_data"
    }
   ],
   "source": [
    "# Corrélation entre la température et la température ressentie\n",
    "fig, ax = plt.subplots()\n",
    "df_bike = bike.toPandas()\n",
    "sns.regplot(data=df_bike, x='t1', y='t2', ax=ax, fit_reg=False)\n",
    "ax.set_title(\"Figure 3c : Corrélation entre la température\\net la température ressentie\", fontweight='bold')\n",
    "ax.set_ylabel('Température ressentie')\n",
    "ax.set_xlabel(\"Température\")\n",
    "plt.xticks(rotation=45)"
   ]
  },
  {
   "cell_type": "markdown",
   "metadata": {},
   "source": [
    "> <div align='justify'>Les deux variables \"température\" et \"température ressentie\" sont très corrélées. La relation entre les deux est linéaire. Inclure les deux variables dans le modèle reviendrait à ajouter une information redondante. Il suffit d'en choisir une des deux. Nous pouvons supprimer la variable <i>t1</i> (température).</div>"
   ]
  },
  {
   "cell_type": "code",
   "execution_count": 94,
   "metadata": {},
   "outputs": [],
   "source": [
    "# On retire la variable t1\n",
    "bike = bike.drop('t1')"
   ]
  },
  {
   "cell_type": "markdown",
   "metadata": {},
   "source": [
    "- <b>Effet de la vitesse du vent</b>"
   ]
  },
  {
   "cell_type": "code",
   "execution_count": 95,
   "metadata": {},
   "outputs": [
    {
     "data": {
      "text/plain": [
       "(array([-10.,   0.,  10.,  20.,  30.,  40.,  50.,  60.]),\n",
       " <a list of 8 Text xticklabel objects>)"
      ]
     },
     "execution_count": 95,
     "metadata": {},
     "output_type": "execute_result"
    },
    {
     "data": {
      "image/png": "[encoded data removed]",
      "text/plain": [
       "<Figure size 432x288 with 1 Axes>"
      ]
     },
     "metadata": {},
     "output_type": "display_data"
    }
   ],
   "source": [
    "# Graphique de l'évolution du nombre de partage en fonction de la vitesse du vent\n",
    "fig, ax = plt.subplots()\n",
    "wind = bike.groupby('wind_speed').mean('cnt')\n",
    "df_wind = wind.toPandas().round(3)\n",
    "sns.regplot(data=df_wind, x='wind_speed', y='avg(cnt)', ax=ax, fit_reg=False)\n",
    "ax.set_title(\"Figure 3d : Evolution du nombre de partage\\nde vélos en fonction de la vitesse du vent\", fontweight='bold')\n",
    "ax.set_ylabel('Nombre de partage')\n",
    "ax.set_xlabel(\"Vitesse du vent\")\n",
    "plt.xticks(rotation=45)"
   ]
  },
  {
   "cell_type": "markdown",
   "metadata": {},
   "source": [
    "><div align='justify'>Il n'y a pas de lien clairement linéaire entre le nombre de partages et la vitesse du vent. On note une tendance linéaire lorsque la vitesse du vent est comprise entre 0 et 30 km/h : plus la vitesse du vent augmente et plus le nombre de partage de vélos augmente. A l'inverse, dès que la vitesse du vent dépasse 30 km/h, le nombre de partage de vélos semble diminuer lorsque la vitesse du vent augmente. Cette variable est tout de même conservée dans l'analyse.</div> "
   ]
  },
  {
   "cell_type": "markdown",
   "metadata": {},
   "source": [
    "- <b>Effet de l'humidité</b>"
   ]
  },
  {
   "cell_type": "code",
   "execution_count": 96,
   "metadata": {},
   "outputs": [
    {
     "data": {
      "text/plain": [
       "(array([ 10.,  20.,  30.,  40.,  50.,  60.,  70.,  80.,  90., 100., 110.]),\n",
       " <a list of 11 Text xticklabel objects>)"
      ]
     },
     "execution_count": 96,
     "metadata": {},
     "output_type": "execute_result"
    },
    {
     "data": {
      "image/png": "[encoded data removed]",
      "text/plain": [
       "<Figure size 432x288 with 1 Axes>"
      ]
     },
     "metadata": {},
     "output_type": "display_data"
    }
   ],
   "source": [
    "# Graphique de l'évolution du nombre de partage en fonction de l'humidité\n",
    "fig, ax = plt.subplots()\n",
    "hum = bike.groupby('hum').mean('cnt')\n",
    "df_hum = hum.toPandas().round(3)\n",
    "sns.regplot(data=df_hum, x='hum', y='avg(cnt)', ax=ax, fit_reg=False)\n",
    "ax.set_title(\"Figure 3e : Evolution du nombre de partage\\nde vélos en fonction de l'humidité\", fontweight='bold')\n",
    "ax.set_ylabel('Nombre de partage')\n",
    "ax.set_xlabel(\"Humidité\")\n",
    "plt.xticks(rotation=45)"
   ]
  },
  {
   "cell_type": "markdown",
   "metadata": {},
   "source": [
    "> <div align='justify'>Il existe un lien fort entre le nombre de vélos partagés et l'humidité. Plus l'humidité est importante (jours de pluie par exemple), plus le nombre de vélos partagés est faible.</div>"
   ]
  },
  {
   "cell_type": "markdown",
   "metadata": {},
   "source": [
    "<b><h3><font color='darkblue'>e) Etude de la variable à expliquer</font></h3></b>\n",
    "<div align='justify'>En pratique, il est important que la variable à expliquer suive une loi normale, car de nombreux algorithmes sont basés sur cette hypothèse. Pour étudier la distribution de la variable <i>cnt</i>, on représente son histogramme de distribution.</div>"
   ]
  },
  {
   "cell_type": "code",
   "execution_count": 97,
   "metadata": {},
   "outputs": [
    {
     "data": {
      "text/plain": [
       "Text(0, 0.5, 'Nombre de partage')"
      ]
     },
     "execution_count": 97,
     "metadata": {},
     "output_type": "execute_result"
    },
    {
     "data": {
      "image/png": "[encoded data removed]",
      "text/plain": [
       "<Figure size 432x288 with 1 Axes>"
      ]
     },
     "metadata": {},
     "output_type": "display_data"
    }
   ],
   "source": [
    "# Graphique de la distribution de la variable à expliquer cnt\n",
    "fig, ax = plt.subplots()\n",
    "df_bike = bike.toPandas()\n",
    "sns.distplot(df_bike[\"cnt\"], ax=ax)\n",
    "ax.set_title(\"Figure 4 : Distribution du nombre de partage\\nde vélos\", fontweight='bold')\n",
    "ax.set_ylabel('Nombre de partage')"
   ]
  },
  {
   "cell_type": "markdown",
   "metadata": {},
   "source": [
    "> <div align='justify'>Visiblement, d'après la Figure 4, la variable <i>cnt</i> n'a pas une distribution normale. On peut lui appliquer une transformation logarithmique pour approcher une distribution normale.</div>"
   ]
  },
  {
   "cell_type": "code",
   "execution_count": 98,
   "metadata": {},
   "outputs": [],
   "source": [
    "# Transformation logarithmique de la variable à expliquer\n",
    "bike = bike.withColumn('cnt', fct.log(bike.cnt))"
   ]
  },
  {
   "cell_type": "markdown",
   "metadata": {},
   "source": [
    "Après le passage au logarithme, on peut s'attendre à ce qu'il y ait présence de valeurs nulles dans la variable à expliquer lorsque le nombre de vélos partagés était de zéro (car le log est défini sur $\\mathbf{R}_{*}$). Nous allons donc remplacer les valeurs nulles par zéro."
   ]
  },
  {
   "cell_type": "code",
   "execution_count": 99,
   "metadata": {},
   "outputs": [],
   "source": [
    "bike_modeling = bike.fillna({'cnt':'0'})"
   ]
  },
  {
   "cell_type": "markdown",
   "metadata": {},
   "source": [
    "**Conclusion**  \n",
    "\n",
    "**Le nombre de vélos partagés par heure semble dépendre de plusieurs facteurs temporelles et météorologiques : le mois/la saison, l'heure de la journée, le type de journée, la température ressentie, l'humidité et la vitesse du vent.**  \n",
    "\n",
    "Existe-t-il un modèle permettant de prédire le nombre de vélos loués par heure en fonction de ces paramètres ?"
   ]
  },
  {
   "cell_type": "markdown",
   "metadata": {},
   "source": [
    "<h2><font color='darkred'>2. Machine Learning</font></h2>"
   ]
  },
  {
   "cell_type": "code",
   "execution_count": 100,
   "metadata": {},
   "outputs": [],
   "source": [
    "# Librairies utilisées\n",
    "from pyspark.ml.feature import VectorAssembler, OneHotEncoderEstimator\n",
    "from pyspark.ml.regression import RandomForestRegressor\n",
    "from pyspark.ml.tuning import ParamGridBuilder, CrossValidator\n",
    "from pyspark.ml.evaluation import RegressionEvaluator\n",
    "from pyspark.ml import Pipeline"
   ]
  },
  {
   "cell_type": "markdown",
   "metadata": {},
   "source": [
    "<div align='justify'>On chercher maintenant à définir un modèle permettant de prédire le nombre de vélos partagés par heure grâce aux différents facteurs énoncés précédemment.</div>"
   ]
  },
  {
   "cell_type": "code",
   "execution_count": 101,
   "metadata": {},
   "outputs": [
    {
     "name": "stdout",
     "output_type": "stream",
     "text": [
      "+------------------+---+-----+----------+------------+----------+------+-----+----+\n",
      "|               cnt| t2|  hum|wind_speed|weather_code|is_weekend|season|month|hour|\n",
      "+------------------+---+-----+----------+------------+----------+------+-----+----+\n",
      "| 5.204006687076795|2.0| 93.0|       6.0|         3.0|       1.0|   3.0|    1|   0|\n",
      "| 4.927253685157205|2.5| 93.0|       5.0|         1.0|       1.0|   3.0|    1|   1|\n",
      "| 4.897839799950911|2.5| 96.5|       0.0|         1.0|       1.0|   3.0|    1|   2|\n",
      "| 4.276666119016055|2.0|100.0|       0.0|         1.0|       1.0|   3.0|    1|   3|\n",
      "|3.8501476017100584|0.0| 93.0|       6.5|         1.0|       1.0|   3.0|    1|   4|\n",
      "+------------------+---+-----+----------+------------+----------+------+-----+----+\n",
      "only showing top 5 rows\n",
      "\n"
     ]
    }
   ],
   "source": [
    "bike_modeling.show(5)"
   ]
  },
  {
   "cell_type": "markdown",
   "metadata": {},
   "source": [
    "<b><h3><font color='darkblue'>a) Préparation des données pour le ML</font></h3></b>\n",
    "<div align='justify'>Lorsqu'on souhaite entrainer un algorithme avec Spark, nous avons besoin de transformer le tableau de données de manière :</div>  \n",
    "\n",
    "* <div align='justify'>Toutes les colonnes doivent être numériques, ce qui est notre cas, nous n'avons pas besoin d'indexer des catégories avec StringIndexer par exemple.</div> \n",
    "  \n",
    "* <div align='justify'>En revanche, certaines colonnes catégorielles sont indexées par des chiffres de 1 à 4 et il est nécessaire d'indiquer à l'algorithme que les modalités ont des poids identiques. Par exemple, les saisons de la variable <i>season</i> sont représentées par des chiffres de 1 à 4, mais la saison 4 n'est pas meilleure que la saison 1. Pour cela, les variables catégorielles sont recodées en variables binaires (OneHotEncodingEstimator). La première modalité n'est pas conservée (argument dropLast=True) pour éviter la multicollinéarité avec les variables des autres modalités.</div> "
   ]
  },
  {
   "cell_type": "code",
   "execution_count": 103,
   "metadata": {},
   "outputs": [],
   "source": [
    "# One Hot Encoding sur les variables season, weather_code, hour et month\n",
    "encoder = OneHotEncoderEstimator(inputCols=[\"season\", \"weather_code\", \"hour\", \"month\"],\n",
    "                                 outputCols=[\"seasonVec\", \"weather_codeVec\", \"hourVec\", \"monthVec\"],\n",
    "                                dropLast=True)"
   ]
  },
  {
   "cell_type": "markdown",
   "metadata": {},
   "source": [
    "* Enfin, nous avons besoin de deux colonnes : une contenant les paramètres (\"features\") et une contenant la variable à prédire (\"cnt\")."
   ]
  },
  {
   "cell_type": "code",
   "execution_count": 113,
   "metadata": {},
   "outputs": [],
   "source": [
    "features = ['hum',\n",
    "            't2',\n",
    "            'wind_speed',\n",
    "            'monthVec',\n",
    "            'hourVec',\n",
    "            'seasonVec',\n",
    "            'weather_codeVec',\n",
    "            'is_weekend']"
   ]
  },
  {
   "cell_type": "code",
   "execution_count": 114,
   "metadata": {},
   "outputs": [],
   "source": [
    "# Création de l'assembler\n",
    "assembler = VectorAssembler()\\\n",
    "    .setInputCols(features)\\\n",
    "    .setOutputCol(\"features\")"
   ]
  },
  {
   "cell_type": "markdown",
   "metadata": {},
   "source": [
    "<b><h3><font color='darkblue'>b) Modélisation</font></h3></b>\n",
    "<div align='justify'>Une fois les données prêtes, nous pouvons passer à la partie modélisation. Dans un premier temps, on découpe les données en un jeu d'entrainement et un jeu de test. Ensuite, on construit une grille de recherche afin de rassembler les hyperparamètres du modèle à tester. Les hyperparamètres seront déterminés par validation croisée. Enfin, on testera le pouvoir prédictif du modèle sur le jeu de test.  \n",
    "\n",
    "<p>Le modèle choisi pour ce projet est l'algorithme des \"forêts aléatoires\" (Random Forests).</p></div>"
   ]
  },
  {
   "cell_type": "markdown",
   "metadata": {},
   "source": [
    "- <b>Découpage des données en un jeu d'entrainement et un jeu de test</b>"
   ]
  },
  {
   "cell_type": "markdown",
   "metadata": {},
   "source": [
    "Afin de pouvoir tester le modèle sur des données non vues par l'algorithme pendant l'apprentissage, le jeu de données est découpé en deux parties :\n",
    "* Un jeu d'apprentissage (80% des données)\n",
    "* Un jeu de test (20% des données) "
   ]
  },
  {
   "cell_type": "code",
   "execution_count": 115,
   "metadata": {},
   "outputs": [],
   "source": [
    "(trainingData, testData) = bike_modeling.randomSplit([0.8, 0.2])"
   ]
  },
  {
   "cell_type": "markdown",
   "metadata": {},
   "source": [
    "- <b>Création du modèle Random Forest</b>\n",
    "\n",
    "<div align='justify'>L'algorithme de \"forêts aléatoires\" a pour avantage de réduire les risques de surajustement et de fournir des résultats performants et précis.</div>"
   ]
  },
  {
   "cell_type": "code",
   "execution_count": 116,
   "metadata": {},
   "outputs": [],
   "source": [
    "rf = RandomForestRegressor(featuresCol=\"features\", labelCol=\"cnt\")"
   ]
  },
  {
   "cell_type": "markdown",
   "metadata": {},
   "source": [
    "- <b>Création d'une grid search pour trouver les meilleurs hyperparamètres</b> \n",
    "\n",
    "L'algorithme des \"forêts aléatoires\" nécessitant des hyperparamètres comme :\n",
    "* La profondeur maximale des arbres \n",
    "* Le nombre d'individus minimale à chaque feuille\n",
    "* Le nombre d'arbres de décision à construire  \n",
    "\n",
    "<div align='justify'>Une grille de recherche est construite pour tester plusieurs combinaisons d'hyperparamètres afin de sélectionner celle qui donne la meilleure performance.</div>"
   ]
  },
  {
   "cell_type": "code",
   "execution_count": 117,
   "metadata": {},
   "outputs": [],
   "source": [
    "rfparamGrid = ParamGridBuilder() \\\n",
    "               .addGrid(rf.maxDepth, [4, 6, 8, 10]) \\\n",
    "               .addGrid(rf.maxBins, [50, 100, 150]) \\\n",
    "               .addGrid(rf.numTrees, [50, 100, 150]) \\\n",
    "               .build()"
   ]
  },
  {
   "cell_type": "markdown",
   "metadata": {},
   "source": [
    "- <b>Création du pipeline</b>\n",
    "\n",
    "<div align='justify'>On crée ensuite le pipeline qui regroupe la préparation des données et le modèle à entrainer.</div>"
   ]
  },
  {
   "cell_type": "code",
   "execution_count": 118,
   "metadata": {},
   "outputs": [],
   "source": [
    "stages = [encoder, assembler, rf]\n",
    "pipe = Pipeline(stages=stages)"
   ]
  },
  {
   "cell_type": "markdown",
   "metadata": {},
   "source": [
    "- <b>Création de l'évaluateur</b>\n",
    "\n",
    "<div align='justify'>La variable à prédire étant quantitative, le critère de performance utilisé pour le choix du modèle est le RMSEP (Root Mean Square Error Prediction). Il s'agit de la différence entre les valeurs prédites et les valeurs observées, encore appelée erreur quadratique moyenne. Plus le RMSEP est faible, meilleure est la prédiction. </div>"
   ]
  },
  {
   "cell_type": "code",
   "execution_count": 119,
   "metadata": {},
   "outputs": [],
   "source": [
    "evaluator = RegressionEvaluator(labelCol=\"cnt\", predictionCol=\"prediction\", metricName=\"rmse\")"
   ]
  },
  {
   "cell_type": "markdown",
   "metadata": {},
   "source": [
    "- <b>Création de la validation croisée</b>\n",
    "\n",
    "<div align='justify'>Le modèle est entrainé par validation croisée afin d'éviter le surajustement : le jeu d'apprentissage est découpé en plusieurs \"folds\" (ici 5) et pour chaque fold k, le modèle est entrainé sur la partie qui ne contient pas le fold (k-1) puis testé sur le fold k. L'erreur de validation est calculée pour chaque fold puis moyennée sur tout les folds à la fin. On effectue une validation croisée pour chaque combinaison d'hyperparamètres.</div>"
   ]
  },
  {
   "cell_type": "code",
   "execution_count": 120,
   "metadata": {},
   "outputs": [],
   "source": [
    "rfcv = CrossValidator(estimator = pipe,\n",
    "                      estimatorParamMaps = rfparamGrid,\n",
    "                      evaluator = evaluator,\n",
    "                      numFolds = 5)"
   ]
  },
  {
   "cell_type": "markdown",
   "metadata": {},
   "source": [
    "- <b>Entrainement du modèle</b>"
   ]
  },
  {
   "cell_type": "code",
   "execution_count": 121,
   "metadata": {},
   "outputs": [],
   "source": [
    "cvmodel = rfcv.fit(trainingData)"
   ]
  },
  {
   "cell_type": "code",
   "execution_count": 122,
   "metadata": {},
   "outputs": [],
   "source": [
    "bike_rf = cvmodel.transform(trainingData)"
   ]
  },
  {
   "cell_type": "markdown",
   "metadata": {},
   "source": [
    "<b><h3><font color='darkblue'>c) Prédictions et évaluation du modèle</font></h3></b>\n",
    "<div align='justify'>Afin d'évaluer le modèle, on prédit les valeurs du jeu de test, puis on les compare avec les vraies valeurs.</div>"
   ]
  },
  {
   "cell_type": "markdown",
   "metadata": {},
   "source": [
    "- <b>Prédictions sur le jeu de test</b>"
   ]
  },
  {
   "cell_type": "code",
   "execution_count": 123,
   "metadata": {},
   "outputs": [],
   "source": [
    "predictions = cvmodel.transform(testData)"
   ]
  },
  {
   "cell_type": "code",
   "execution_count": 131,
   "metadata": {},
   "outputs": [
    {
     "name": "stdout",
     "output_type": "stream",
     "text": [
      "+------------------+------------------+--------------------+\n",
      "|        prediction|               cnt|            features|\n",
      "+------------------+------------------+--------------------+\n",
      "|3.8740922509102105|  2.70805020110221|(49,[0,1,2,8,18,3...|\n",
      "|  4.57947494027029| 2.772588722239781|(49,[0,1,2,14,17,...|\n",
      "|3.9434865102550067| 2.833213344056216|(49,[0,1,2,4,17,4...|\n",
      "| 4.172697198143684|2.9444389791664403|(49,[0,1,2,5,17],...|\n",
      "| 3.778162018505489| 2.995732273553991|(49,[0,1,2,5,18,4...|\n",
      "|3.6920415868027816| 3.091042453358316|(49,[0,1,2,5,18,4...|\n",
      "|3.4649036677989753|3.1354942159291497|(49,[0,1,2,4,18,4...|\n",
      "|3.7462614212255434|3.1780538303479458|(49,[0,1,2,14,18,...|\n",
      "|3.6015029792937336|3.2188758248682006|(49,[0,1,2,5,19,4...|\n",
      "| 3.603087703555854| 3.258096538021482|(49,[0,2,14,18,40...|\n",
      "+------------------+------------------+--------------------+\n",
      "only showing top 10 rows\n",
      "\n"
     ]
    }
   ],
   "source": [
    "predictions.select(\"prediction\", \"cnt\", \"features\").show(10)"
   ]
  },
  {
   "cell_type": "markdown",
   "metadata": {},
   "source": [
    "- <b>Evaluation du modèle</b>"
   ]
  },
  {
   "cell_type": "code",
   "execution_count": 125,
   "metadata": {},
   "outputs": [
    {
     "name": "stdout",
     "output_type": "stream",
     "text": [
      "Root Mean Squared Error (RMSE) on test data = 0.530224\n"
     ]
    }
   ],
   "source": [
    "rmse = evaluator.evaluate(predictions)\n",
    "print(\"Root Mean Squared Error (RMSE) on test data = %g\" % rmse)"
   ]
  },
  {
   "cell_type": "markdown",
   "metadata": {},
   "source": [
    "<div align='justify'>L'avantage du RMSE est qu'il s'exprime dans la même unité que la variable réponse. Ici, il s'interprète comme un pseudo écart-type de la variance inexpliquée du modèle. Chaque valeur est prédite avec plus ou moins 0.53 points d'incertitude. Rapporté aux valeurs des données, cela représente une bonne prédiction.</div>  "
   ]
  },
  {
   "cell_type": "markdown",
   "metadata": {},
   "source": [
    "<b><h3><font color='darkblue'>d) Analyse du modèle</font></h3></b>\n",
    "<div align='justify'>Dans le cas d'un modèle de forêts aléatoires, il est utile d'afficher l'importance des variables afin de voir quelles sont les variables qui influencent beaucoup la prédiction. </div>"
   ]
  },
  {
   "cell_type": "code",
   "execution_count": 126,
   "metadata": {},
   "outputs": [],
   "source": [
    "# Fonction qui retourne un dataframe contenant l'importance des variables\n",
    "# Source : https://www.timlrx.com/2018/06/19/feature-selection-using-feature-importance-score-creating-a-pyspark-estimator/\n",
    "def ExtractFeatureImp(featureImp, dataset, featuresCol):\n",
    "    list_extract = []\n",
    "    for i in dataset.schema[featuresCol].metadata[\"ml_attr\"][\"attrs\"]:\n",
    "        list_extract = list_extract + dataset.schema[featuresCol].metadata[\"ml_attr\"][\"attrs\"][i]\n",
    "    varlist = pd.DataFrame(list_extract)\n",
    "    varlist['score'] = varlist['idx'].apply(lambda x: featureImp[x])\n",
    "    return(varlist.sort_values('score', ascending = False))"
   ]
  },
  {
   "cell_type": "code",
   "execution_count": 127,
   "metadata": {},
   "outputs": [
    {
     "data": {
      "text/html": [
       "<div>\n",
       "<style scoped>\n",
       "    .dataframe tbody tr th:only-of-type {\n",
       "        vertical-align: middle;\n",
       "    }\n",
       "\n",
       "    .dataframe tbody tr th {\n",
       "        vertical-align: top;\n",
       "    }\n",
       "\n",
       "    .dataframe thead th {\n",
       "        text-align: right;\n",
       "    }\n",
       "</style>\n",
       "<table border=\"1\" class=\"dataframe\">\n",
       "  <thead>\n",
       "    <tr style=\"text-align: right;\">\n",
       "      <th></th>\n",
       "      <th>idx</th>\n",
       "      <th>name</th>\n",
       "      <th>score</th>\n",
       "    </tr>\n",
       "  </thead>\n",
       "  <tbody>\n",
       "    <tr>\n",
       "      <th>0</th>\n",
       "      <td>0</td>\n",
       "      <td>hum</td>\n",
       "      <td>0.196269</td>\n",
       "    </tr>\n",
       "    <tr>\n",
       "      <th>20</th>\n",
       "      <td>19</td>\n",
       "      <td>hourVec_4</td>\n",
       "      <td>0.164616</td>\n",
       "    </tr>\n",
       "    <tr>\n",
       "      <th>19</th>\n",
       "      <td>18</td>\n",
       "      <td>hourVec_3</td>\n",
       "      <td>0.145095</td>\n",
       "    </tr>\n",
       "    <tr>\n",
       "      <th>18</th>\n",
       "      <td>17</td>\n",
       "      <td>hourVec_2</td>\n",
       "      <td>0.104376</td>\n",
       "    </tr>\n",
       "    <tr>\n",
       "      <th>21</th>\n",
       "      <td>20</td>\n",
       "      <td>hourVec_5</td>\n",
       "      <td>0.096047</td>\n",
       "    </tr>\n",
       "    <tr>\n",
       "      <th>17</th>\n",
       "      <td>16</td>\n",
       "      <td>hourVec_1</td>\n",
       "      <td>0.067793</td>\n",
       "    </tr>\n",
       "    <tr>\n",
       "      <th>3</th>\n",
       "      <td>48</td>\n",
       "      <td>is_weekend</td>\n",
       "      <td>0.053642</td>\n",
       "    </tr>\n",
       "    <tr>\n",
       "      <th>1</th>\n",
       "      <td>1</td>\n",
       "      <td>t2</td>\n",
       "      <td>0.053186</td>\n",
       "    </tr>\n",
       "    <tr>\n",
       "      <th>16</th>\n",
       "      <td>15</td>\n",
       "      <td>hourVec_0</td>\n",
       "      <td>0.032988</td>\n",
       "    </tr>\n",
       "    <tr>\n",
       "      <th>24</th>\n",
       "      <td>23</td>\n",
       "      <td>hourVec_8</td>\n",
       "      <td>0.019686</td>\n",
       "    </tr>\n",
       "  </tbody>\n",
       "</table>\n",
       "</div>"
      ],
      "text/plain": [
       "    idx        name     score\n",
       "0     0         hum  0.196269\n",
       "20   19   hourVec_4  0.164616\n",
       "19   18   hourVec_3  0.145095\n",
       "18   17   hourVec_2  0.104376\n",
       "21   20   hourVec_5  0.096047\n",
       "17   16   hourVec_1  0.067793\n",
       "3    48  is_weekend  0.053642\n",
       "1     1          t2  0.053186\n",
       "16   15   hourVec_0  0.032988\n",
       "24   23   hourVec_8  0.019686"
      ]
     },
     "execution_count": 127,
     "metadata": {},
     "output_type": "execute_result"
    }
   ],
   "source": [
    "ExtractFeatureImp(cvmodel.bestModel.stages[-1].featureImportances, bike_rf, \"features\").head(10)"
   ]
  },
  {
   "cell_type": "markdown",
   "metadata": {},
   "source": [
    "Le format n'est pas idéal car chaque modalité de chaque variable s'affiche. \n",
    "Cependant, nous pouvons apporter quelques éléments de conclusions : \n",
    "* L'humidité est un des premiers facteurs influençant le nombre de vélos partagés à une borne\n",
    "* L'heure de la journée ainsi que le fait que le jour soit un week-end ou pas semble également influée\n",
    "* La température ressentie est le troisième facteur qui apparaît comme influent"
   ]
  },
  {
   "cell_type": "markdown",
   "metadata": {},
   "source": [
    "<b><h3><font color='darkblue'>e) Pistes d'amélioration</font></h3></b>\n",
    "\n",
    "Ce modèle pourrait être amélioré :\n",
    "* Par l'ajout d'autres variables qui pourraient également avoir une influence sur le nombre de vélos loués par heure (par exemple le quartier de la ville, le nombre d'habitants aux alentours de la borne)\n",
    "* Par le test d'autres modèles "
   ]
  }
 ],
 "metadata": {
  "kernelspec": {
   "display_name": "Python 3",
   "language": "python",
   "name": "python3"
  },
  "language_info": {
   "codemirror_mode": {
    "name": "ipython",
    "version": 3
   },
   "file_extension": ".py",
   "mimetype": "text/x-python",
   "name": "python",
   "nbconvert_exporter": "python",
   "pygments_lexer": "ipython3",
   "version": "3.6.5"
  },
  "varInspector": {
   "cols": {
    "lenName": 16,
    "lenType": 16,
    "lenVar": 40
   },
   "kernels_config": {
    "python": {
     "delete_cmd_postfix": "",
     "delete_cmd_prefix": "del ",
     "library": "var_list.py",
     "varRefreshCmd": "print(var_dic_list())"
    },
    "r": {
     "delete_cmd_postfix": ") ",
     "delete_cmd_prefix": "rm(",
     "library": "var_list.r",
     "varRefreshCmd": "cat(var_dic_list()) "
    }
   },
   "types_to_exclude": [
    "module",
    "function",
    "builtin_function_or_method",
    "instance",
    "_Feature"
   ],
   "window_display": false
  }
 },
 "nbformat": 4,
 "nbformat_minor": 2
}
