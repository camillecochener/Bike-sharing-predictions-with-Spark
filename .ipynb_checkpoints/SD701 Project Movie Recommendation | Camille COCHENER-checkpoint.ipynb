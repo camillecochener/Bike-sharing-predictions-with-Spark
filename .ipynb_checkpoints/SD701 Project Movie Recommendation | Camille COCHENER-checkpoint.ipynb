{
 "cells": [
  {
   "cell_type": "markdown",
   "metadata": {},
   "source": [
    "Novembre 2019\n",
    "<div align='center'><h2>SD701 Project Movie Recommendation</h2></div>\n",
    "<div align='center'>Camille COCHENER</div>\n",
    "\n",
    "<p><div align='justify'>Aujourd'hui, de nombreux secteurs utilisent les systèmes de recommandation afin de comprendre au mieux le comportement des consommateurs et utilisateurs. Un des exemples les plus connus est celui de Netflix, qui proposent une sélection de films personnalisée en se basant sur ce que l'utilisateur a déjà regardé et/ou noté. Un autre exemple est celui d'Amazon, qui propose une sélection de produits en fonction de ce que le consommateur a déjà acheté et/ou des produits dont il a consulté la page.</div></p>\n",
    "\n",
    "<p><div align='justify'>Le principe du système de recommandation est de prédire la propension de l'utilisateur à choisir un produit donné en se basant sur ses précédents comportements. L'objectif est de pouvoir ensuite lui proposer une sélection de produits/films/musiques personnalisée.</div></p>\n",
    "\n",
    "<p><div align='justify'>Ce projet a pour objectif de construire un système de recommandation en utilisant le jeu de données MovieLens issu du site de GroupLens, laboratoire de recherche du département Computer Science et Engineering de l'Université du Minnesota.</div></p>\n",
    "\n",
    "<p><div align='justify'>Le jeu de données complet disponible sur le site de GroupLens contient 27 millions de notes et 1,1 missions tags sur 58000 films. 280000 personnes ont évalué les films. La dernière mise à jour de ces données date de septembre 2018. Pour construire le système de recommandation, un échantillon de ce jeu de données sera utilisée afin de faciliter les étapes de nettoyage et exploration de données, et d'entrainement du modèle.</div></p>\n",
    "\n",
    "<p>Cette étude se déroulera en deux temps : \n",
    "<ol>\n",
    "    **<li>Exploration et préparation des données</li>**\n",
    "        <ul>\n",
    "            <li>Statistiques descriptives</li>\n",
    "            <li>Valeurs manquantes</li>\n",
    "            <li>Feature extraction</li>\n",
    "        </ul>  \n",
    "    **<li>Machine learning</li>**\n",
    "        <ul>\n",
    "            <li>Choix des modèles</li>\n",
    "            <li>Entrainement et comparaison des modèles</li>\n",
    "            <li>Performance du modèle final</li>\n",
    "    </ul>\n",
    "    </ol>\n",
    "    </p>\n",
    "\n",
    "<p><div align='justify'>Ce notebook tourne avec Python 3.6.5 et Spark 2.4.4.</div></p>"
   ]
  },
  {
   "cell_type": "markdown",
   "metadata": {},
   "source": [
    "**Création de l'environnement Spark**\n",
    "<div align='justify'>Une session Spark est créée pour pouvoir accéder à toutes les fonctionnalités de Spark sans avoir à créer différents contextes spécifiques.</div>"
   ]
  },
  {
   "cell_type": "code",
   "execution_count": 1,
   "metadata": {},
   "outputs": [],
   "source": [
    "import findspark\n",
    "findspark.init()\n",
    "import pyspark\n",
    "#from pyspark.sql import Row\n",
    "from pyspark.sql import SparkSession"
   ]
  },
  {
   "cell_type": "code",
   "execution_count": 2,
   "metadata": {},
   "outputs": [],
   "source": [
    "spark = SparkSession.builder.appName(\n",
    "    'Project Movie Recommandation').getOrCreate()"
   ]
  },
  {
   "cell_type": "markdown",
   "metadata": {},
   "source": [
    "<p><div align='justify'>Le nombre de partitions utilisées par Spark pour distribuer les données est le nombre de coeurs de l'ordinateur par défault :</div></p>"
   ]
  },
  {
   "cell_type": "code",
   "execution_count": 3,
   "metadata": {},
   "outputs": [
    {
     "data": {
      "text/plain": [
       "4"
      ]
     },
     "execution_count": 3,
     "metadata": {},
     "output_type": "execute_result"
    }
   ],
   "source": [
    "spark.sparkContext.defaultParallelism"
   ]
  },
  {
   "cell_type": "markdown",
   "metadata": {},
   "source": [
    "**Chargement des données**\n",
    "<p><div align='justify'>Les données des fichiers *movies.csv* et *ratings.csv* sont chargées dans des DataFrames afin de faciliter leur manipulation.</div></p>"
   ]
  },
  {
   "cell_type": "code",
   "execution_count": 4,
   "metadata": {},
   "outputs": [],
   "source": [
    "path_data = \"ml-latest-small/\"\n",
    "ratingsFile = spark.read.csv(\n",
    "    path_data+\"/ratings.csv\", header=True, inferSchema=True).repartition(10).cache()\n",
    "moviesFile = spark.read.csv(\n",
    "    path_data+\"/movies.csv\", header=True, inferSchema=True).repartition(10).cache()"
   ]
  },
  {
   "cell_type": "markdown",
   "metadata": {},
   "source": [
    "### 1. Exploration et préparation des données"
   ]
  },
  {
   "cell_type": "markdown",
   "metadata": {},
   "source": [
    "**Affichage des premières lignes des jeux de données**\n",
    "<p><div align='justify'>Il est toujours utile d'afficher les premières lignes d'un jeu de données afin de mieux comprendre sa structure et d'avoir un premier aperçu de son contenu.</div></p>"
   ]
  },
  {
   "cell_type": "code",
   "execution_count": 5,
   "metadata": {},
   "outputs": [
    {
     "name": "stdout",
     "output_type": "stream",
     "text": [
      "+-------+-----------------+--------------------+\n",
      "|movieId|            title|              genres|\n",
      "+-------+-----------------+--------------------+\n",
      "|     76| Screamers (1995)|Action|Sci-Fi|Thr...|\n",
      "|   3835|Crush, The (1993)|            Thriller|\n",
      "|   7190| Jane Eyre (1970)|               Drama|\n",
      "|   2887| Simon Sez (1999)|       Action|Comedy|\n",
      "|  50440|  Primeval (2007)|     Horror|Thriller|\n",
      "+-------+-----------------+--------------------+\n",
      "only showing top 5 rows\n",
      "\n",
      "+------+-------+------+----------+\n",
      "|userId|movieId|rating| timestamp|\n",
      "+------+-------+------+----------+\n",
      "|   249|   5803|   3.0|1354225800|\n",
      "|   610|  84772|   3.5|1493846852|\n",
      "|   599|   1982|   3.0|1498524557|\n",
      "|   468|    317|   3.0| 831400519|\n",
      "|   169|   5873|   4.5|1059429313|\n",
      "+------+-------+------+----------+\n",
      "only showing top 5 rows\n",
      "\n"
     ]
    }
   ],
   "source": [
    "moviesFile.show(5)\n",
    "ratingsFile.show(5)"
   ]
  },
  {
   "cell_type": "markdown",
   "metadata": {},
   "source": [
    "<p><div align='justify'>Il est également pratique d'avoir des informations sur la taille des données, par exemple : combien de films contient l'échantillon ? Combien de personnes ont noté les films ?</div></p>"
   ]
  },
  {
   "cell_type": "code",
   "execution_count": 6,
   "metadata": {},
   "outputs": [
    {
     "name": "stdout",
     "output_type": "stream",
     "text": [
      "Nombre d'utilisateurs différents ayant noté les films : 610\n",
      "Nombre de films différents : 9724\n"
     ]
    }
   ],
   "source": [
    "print(\"Nombre d'utilisateurs différents ayant noté les films : {}\".format(ratingsFile.select(\"userId\").distinct().count()))\n",
    "print(\"Nombre de films différents : {}\".format(ratingsFile.select(\"movieId\").distinct().count()))"
   ]
  },
  {
   "cell_type": "markdown",
   "metadata": {},
   "source": [
    "**Observation des statistiques descriptives (moyennes, écarts-type, min, max...)**"
   ]
  },
  {
   "cell_type": "code",
   "execution_count": 7,
   "metadata": {},
   "outputs": [
    {
     "name": "stdout",
     "output_type": "stream",
     "text": [
      "+------+-------+------+----------+\n",
      "|userId|movieId|rating| timestamp|\n",
      "+------+-------+------+----------+\n",
      "|   249|   5803|   3.0|1354225800|\n",
      "|   610|  84772|   3.5|1493846852|\n",
      "|   599|   1982|   3.0|1498524557|\n",
      "|   468|    317|   3.0| 831400519|\n",
      "|   169|   5873|   4.5|1059429313|\n",
      "|   113|   1564|   5.0| 980051894|\n",
      "|    19|   2985|   3.0| 965703785|\n",
      "|   401|   4886|   3.5|1514346115|\n",
      "|   422|   3916|   4.0| 986173367|\n",
      "|   255|   3396|   3.0|1005717433|\n",
      "|   610|   2273|   3.0|1479542268|\n",
      "|   318|  70286|   3.0|1261340410|\n",
      "|   551|  91535|   3.5|1504926078|\n",
      "|   249|   4865|   3.5|1378034388|\n",
      "|   580|   1200|   4.5|1167789904|\n",
      "|   275|   1777|   2.0|1049076697|\n",
      "|    22|  55820|   4.0|1268726559|\n",
      "|    57|    653|   3.0| 965798432|\n",
      "|   325|   5540|   3.0|1039398002|\n",
      "|   514|    480|   4.5|1533949907|\n",
      "+------+-------+------+----------+\n",
      "only showing top 20 rows\n",
      "\n"
     ]
    }
   ],
   "source": [
    "ratingsFile.show()"
   ]
  },
  {
   "cell_type": "markdown",
   "metadata": {},
   "source": [
    "<p><div align='justify'>Il n'y a pas de valeurs manquantes dans le jeu de données *ratingsFile* car toutes les variables ont le même nombre de lignes non vides. Ici, les indicateurs pour *userId*, *movieId* et *timestamp* ne veulent pas dire grand chose puisque les id et le codage de la date ne sont pas de vraies mesures. Seuls les indicateurs pour la variable ratings sont interprétables. On peut par exemple voir qu'aucun utilisateur n'a donné la note de zéro à un film.</div></p>"
   ]
  },
  {
   "cell_type": "code",
   "execution_count": 8,
   "metadata": {},
   "outputs": [
    {
     "name": "stdout",
     "output_type": "stream",
     "text": [
      "+-------+------------------+--------------------+------------------+\n",
      "|summary|           movieId|               title|            genres|\n",
      "+-------+------------------+--------------------+------------------+\n",
      "|  count|              9742|                9742|              9742|\n",
      "|   mean|42200.353623485935|                null|              null|\n",
      "| stddev|52160.494854438344|                null|              null|\n",
      "|    min|                 1|\"11'09\"\"01 - Sept...|(no genres listed)|\n",
      "|    max|            193609|À nous la liberté...|           Western|\n",
      "+-------+------------------+--------------------+------------------+\n",
      "\n"
     ]
    }
   ],
   "source": [
    "moviesFile.describe().show()"
   ]
  },
  {
   "cell_type": "markdown",
   "metadata": {},
   "source": [
    "<p><div align='justify'>Il n'y a également pas de valeurs manquantes dans le jeu de données *ratingsFile*. De la même manière que précédemment, la variable *movieId* est un id donc les indicateurs de position et de dispersion ne sont pas interprétables. Les variables *title* et *genres* sont des variables textuelles, l'une contient les titres des films et l'autre des tags de genre séparés par des \"|\".</div></p>\n",
    "\n",
    "<p><div align='justify'>Globalement, les deux jeux de données sont propres.</div></p>\n",
    "\n",
    "<p><div align='justify'>Dans un premier temps, on cherchera à construire un modèle sur le premier jeu de données *ratingsFile*. Dans un second temps, on cherchera à compléter notre modèle par l'ajout d'autres informations, comme les genres, les descriptions de films...</div></p>"
   ]
  },
  {
   "cell_type": "markdown",
   "metadata": {},
   "source": [
    "### 2. Machine learning"
   ]
  },
  {
   "cell_type": "markdown",
   "metadata": {},
   "source": [
    "**Choix du modèle ALS**"
   ]
  },
  {
   "cell_type": "markdown",
   "metadata": {},
   "source": [
    "<p><div align='justify'>Un modèle classique utilisé pour construire des systèmes de recommandation est le filtrage collaboratif. Cette méthode permet de compléter les valeurs manquantes de la matrice utilisateur/films. La librairie Spark ML a un algorithme ALS (Alternative least squares) qui permet d'appliquer la méthode de filtrage collaboratif. Ce modèle possède trois hyperparamètres. Pour l'instant, nous laissons les valeurs par défaut.\n",
    "</div></p>"
   ]
  },
  {
   "cell_type": "code",
   "execution_count": 9,
   "metadata": {},
   "outputs": [],
   "source": [
    "from pyspark.ml.tuning import CrossValidator, ParamGridBuilder\n",
    "from pyspark.ml.evaluation import RegressionEvaluator\n",
    "from pyspark.ml.recommendation import ALS"
   ]
  },
  {
   "cell_type": "markdown",
   "metadata": {},
   "source": [
    "**Partitionnement des données en jeu de test et jeu d'entrainement**"
   ]
  },
  {
   "cell_type": "markdown",
   "metadata": {},
   "source": [
    "<p><div align='justify'>L'objectif étant de construire un modèle puis de l'évaluer, nous allons séparer le jeu de données *ratingsFile* en deux parties :\n",
    "<ul>\n",
    "    <li>Un jeu d'entrainement (80% des données)</li>\n",
    "    <li>Un jeu de test (20% des données)</li>\n",
    "    </ul>\n",
    "En effet, si nous construisons le modèle sur le jeu de données entier, puis que nous prédisons les notes en utilisant le même jeu de données, les prédictions n'auront pas beaucoup de sens puisque le modèle aura appris à prédire ces valeurs en particulier.  \n",
    "D'autre part, afin d'éviter le surajustement, nous utiliserons la validation croisée, c'est à dire que le jeu de données sera découpé aléatoirement un certain nombre de fois en deux parties et un nouveau RMSEP sera calculé. Les RMSEP seront ensuite moyennés et on calculera leur intervalle de confiance.</div></p>\n",
    "    "
   ]
  },
  {
   "cell_type": "code",
   "execution_count": 10,
   "metadata": {},
   "outputs": [],
   "source": [
    "(ratings_train, ratings_test) = ratingsFile.randomSplit([0.8, 0.2])"
   ]
  },
  {
   "cell_type": "code",
   "execution_count": 11,
   "metadata": {},
   "outputs": [
    {
     "data": {
      "text/plain": [
       "80693"
      ]
     },
     "execution_count": 11,
     "metadata": {},
     "output_type": "execute_result"
    }
   ],
   "source": [
    "ratings_train.count()"
   ]
  },
  {
   "cell_type": "code",
   "execution_count": 12,
   "metadata": {},
   "outputs": [
    {
     "data": {
      "text/plain": [
       "20143"
      ]
     },
     "execution_count": 12,
     "metadata": {},
     "output_type": "execute_result"
    }
   ],
   "source": [
    "ratings_test.count()"
   ]
  },
  {
   "cell_type": "markdown",
   "metadata": {},
   "source": [
    "<p><div align='justify'>Création du modèle</div></p>"
   ]
  },
  {
   "cell_type": "code",
   "execution_count": 13,
   "metadata": {},
   "outputs": [],
   "source": [
    "als = ALS(userCol=\"userId\", itemCol=\"movieId\", ratingCol=\"rating\", coldStartStrategy=\"drop\", nonnegative = True, implicitPrefs = False)"
   ]
  },
  {
   "cell_type": "markdown",
   "metadata": {},
   "source": [
    "**Construction de la grid search pour les hyperparamètres**"
   ]
  },
  {
   "cell_type": "code",
   "execution_count": 14,
   "metadata": {},
   "outputs": [],
   "source": [
    "param_grid = ParamGridBuilder() \\\n",
    "    .addGrid(als.rank, [5]) \\\n",
    "    .addGrid(als.maxIter, [5]) \\\n",
    "    .addGrid(als.regParam, [.05]) \\\n",
    "    .build()"
   ]
  },
  {
   "cell_type": "markdown",
   "metadata": {},
   "source": [
    "**Choix de l'indicateur de performance**"
   ]
  },
  {
   "cell_type": "code",
   "execution_count": 15,
   "metadata": {},
   "outputs": [],
   "source": [
    "evaluator = RegressionEvaluator(metricName=\"rmse\", labelCol=\"rating\", predictionCol=\"prediction\")"
   ]
  },
  {
   "cell_type": "markdown",
   "metadata": {},
   "source": [
    "<p><div align='justify'>**Préparation de la validation croisée**  \n",
    "On choisira 5 partitions (choix usuel).</div></p>"
   ]
  },
  {
   "cell_type": "code",
   "execution_count": 16,
   "metadata": {},
   "outputs": [],
   "source": [
    "cv = CrossValidator(estimator = als, \\\n",
    "    estimatorParamMaps = param_grid, \\\n",
    "    evaluator = evaluator, \\\n",
    "    numFolds = 5)"
   ]
  },
  {
   "cell_type": "markdown",
   "metadata": {},
   "source": [
    "**Ajustement du modèle**"
   ]
  },
  {
   "cell_type": "code",
   "execution_count": 17,
   "metadata": {},
   "outputs": [],
   "source": [
    "model = cv.fit(ratings_train)"
   ]
  },
  {
   "cell_type": "code",
   "execution_count": 18,
   "metadata": {},
   "outputs": [],
   "source": [
    "best_model = model.bestModel"
   ]
  },
  {
   "cell_type": "markdown",
   "metadata": {},
   "source": [
    "<p><div align='justify'>Et on teste notre modèle sur le jeu de test en prédisant les notes qu'auraient donné les utilisateurs aux films.</div></p>"
   ]
  },
  {
   "cell_type": "code",
   "execution_count": 19,
   "metadata": {},
   "outputs": [
    {
     "data": {
      "text/html": [
       "<div>\n",
       "<style scoped>\n",
       "    .dataframe tbody tr th:only-of-type {\n",
       "        vertical-align: middle;\n",
       "    }\n",
       "\n",
       "    .dataframe tbody tr th {\n",
       "        vertical-align: top;\n",
       "    }\n",
       "\n",
       "    .dataframe thead th {\n",
       "        text-align: right;\n",
       "    }\n",
       "</style>\n",
       "<table border=\"1\" class=\"dataframe\">\n",
       "  <thead>\n",
       "    <tr style=\"text-align: right;\">\n",
       "      <th></th>\n",
       "      <th>userId</th>\n",
       "      <th>movieId</th>\n",
       "      <th>rating</th>\n",
       "      <th>timestamp</th>\n",
       "      <th>prediction</th>\n",
       "    </tr>\n",
       "  </thead>\n",
       "  <tbody>\n",
       "    <tr>\n",
       "      <th>0</th>\n",
       "      <td>385</td>\n",
       "      <td>471</td>\n",
       "      <td>4.0</td>\n",
       "      <td>850766697</td>\n",
       "      <td>3.693265</td>\n",
       "    </tr>\n",
       "    <tr>\n",
       "      <th>1</th>\n",
       "      <td>436</td>\n",
       "      <td>471</td>\n",
       "      <td>3.0</td>\n",
       "      <td>833530187</td>\n",
       "      <td>3.890203</td>\n",
       "    </tr>\n",
       "    <tr>\n",
       "      <th>2</th>\n",
       "      <td>91</td>\n",
       "      <td>471</td>\n",
       "      <td>1.0</td>\n",
       "      <td>1112713817</td>\n",
       "      <td>2.387564</td>\n",
       "    </tr>\n",
       "    <tr>\n",
       "      <th>3</th>\n",
       "      <td>610</td>\n",
       "      <td>471</td>\n",
       "      <td>4.0</td>\n",
       "      <td>1479544381</td>\n",
       "      <td>3.524802</td>\n",
       "    </tr>\n",
       "    <tr>\n",
       "      <th>4</th>\n",
       "      <td>176</td>\n",
       "      <td>471</td>\n",
       "      <td>5.0</td>\n",
       "      <td>840109075</td>\n",
       "      <td>3.846503</td>\n",
       "    </tr>\n",
       "  </tbody>\n",
       "</table>\n",
       "</div>"
      ],
      "text/plain": [
       "   userId  movieId  rating   timestamp  prediction\n",
       "0     385      471     4.0   850766697    3.693265\n",
       "1     436      471     3.0   833530187    3.890203\n",
       "2      91      471     1.0  1112713817    2.387564\n",
       "3     610      471     4.0  1479544381    3.524802\n",
       "4     176      471     5.0   840109075    3.846503"
      ]
     },
     "execution_count": 19,
     "metadata": {},
     "output_type": "execute_result"
    }
   ],
   "source": [
    "# Prédiction sur le jeu de test\n",
    "predictions = best_model.transform(ratings_test)\n",
    "predictions.toPandas().head()"
   ]
  },
  {
   "cell_type": "markdown",
   "metadata": {},
   "source": [
    "<p><div align='justify'>On évalue la qualité prédictive du modèle en comparant les valeurs prédites aux valeurs observées. Pour cela, comme nos notes sont des valeurs continues, on peut utiliser le RMSEP (Root Mean Square Error of Prediction) qui calcule la racine de la moyenne des erreurs au carré. Plus cet indicateur est petit, meilleure est la prédiction.</div></p>"
   ]
  },
  {
   "cell_type": "code",
   "execution_count": 20,
   "metadata": {},
   "outputs": [
    {
     "name": "stdout",
     "output_type": "stream",
     "text": [
      "RMSE:  0.9117259107971046\n"
     ]
    }
   ],
   "source": [
    "rmse = evaluator.evaluate(predictions)\n",
    "print(\"RMSE: \", rmse)"
   ]
  },
  {
   "cell_type": "markdown",
   "metadata": {},
   "source": [
    "**Recommandations**"
   ]
  },
  {
   "cell_type": "code",
   "execution_count": 22,
   "metadata": {},
   "outputs": [],
   "source": [
    "from pyspark.sql.functions import lit\n",
    "\n",
    "def recommendMovies(model, user, nbRecommendations):\n",
    "    # Create a Spark DataFrame with the specified user and all the movies listed in the ratings DataFrame\n",
    "    dataSet = ratingsFile.select('movieId').distinct().withColumn('userId', lit(user))\n",
    "    # Create a Spark DataFrame with the movies that have already been rated by this user\n",
    "    moviesAlreadyRated = ratingsFile.filter(ratingsFile.userId == user).select('movieId', 'userId')\n",
    "    # Apply the recommender system to the data set without the already rated movies to predict ratings\n",
    "    predictions = model.transform(dataSet.subtract(moviesAlreadyRated)).dropna().orderBy('prediction', ascending=False).limit(nbRecommendations).select('movieId', 'prediction')\n",
    "    # Join with the movies DataFrame to get the movies titles and genres\n",
    "    recommendations = predictions.join(moviesFile, predictions.movieId == moviesFile.movieId).select(predictions.movieId, moviesFile.title, moviesFile.genres, predictions.prediction)\n",
    "    return recommendations"
   ]
  },
  {
   "cell_type": "code",
   "execution_count": 23,
   "metadata": {},
   "outputs": [
    {
     "name": "stdout",
     "output_type": "stream",
     "text": [
      "Recommendations for user 133:\n"
     ]
    },
    {
     "data": {
      "text/html": [
       "<div>\n",
       "<style scoped>\n",
       "    .dataframe tbody tr th:only-of-type {\n",
       "        vertical-align: middle;\n",
       "    }\n",
       "\n",
       "    .dataframe tbody tr th {\n",
       "        vertical-align: top;\n",
       "    }\n",
       "\n",
       "    .dataframe thead th {\n",
       "        text-align: right;\n",
       "    }\n",
       "</style>\n",
       "<table border=\"1\" class=\"dataframe\">\n",
       "  <thead>\n",
       "    <tr style=\"text-align: right;\">\n",
       "      <th></th>\n",
       "      <th>movieId</th>\n",
       "      <th>title</th>\n",
       "      <th>genres</th>\n",
       "      <th>prediction</th>\n",
       "    </tr>\n",
       "  </thead>\n",
       "  <tbody>\n",
       "    <tr>\n",
       "      <th>0</th>\n",
       "      <td>3379</td>\n",
       "      <td>On the Beach (1959)</td>\n",
       "      <td>Drama</td>\n",
       "      <td>4.678715</td>\n",
       "    </tr>\n",
       "    <tr>\n",
       "      <th>1</th>\n",
       "      <td>6201</td>\n",
       "      <td>Lady Jane (1986)</td>\n",
       "      <td>Drama|Romance</td>\n",
       "      <td>4.407306</td>\n",
       "    </tr>\n",
       "    <tr>\n",
       "      <th>2</th>\n",
       "      <td>68945</td>\n",
       "      <td>Neon Genesis Evangelion: Death &amp; Rebirth (Shin...</td>\n",
       "      <td>Action|Animation|Mystery|Sci-Fi</td>\n",
       "      <td>4.678715</td>\n",
       "    </tr>\n",
       "    <tr>\n",
       "      <th>3</th>\n",
       "      <td>104875</td>\n",
       "      <td>History of Future Folk, The (2012)</td>\n",
       "      <td>Adventure|Comedy|Musical|Sci-Fi</td>\n",
       "      <td>4.521430</td>\n",
       "    </tr>\n",
       "    <tr>\n",
       "      <th>4</th>\n",
       "      <td>6818</td>\n",
       "      <td>Come and See (Idi i smotri) (1985)</td>\n",
       "      <td>Drama|War</td>\n",
       "      <td>5.128464</td>\n",
       "    </tr>\n",
       "    <tr>\n",
       "      <th>5</th>\n",
       "      <td>96004</td>\n",
       "      <td>Dragon Ball Z: The History of Trunks (Doragon ...</td>\n",
       "      <td>Action|Adventure|Animation</td>\n",
       "      <td>4.501197</td>\n",
       "    </tr>\n",
       "    <tr>\n",
       "      <th>6</th>\n",
       "      <td>40491</td>\n",
       "      <td>Match Factory Girl, The (Tulitikkutehtaan tytt...</td>\n",
       "      <td>Comedy|Drama</td>\n",
       "      <td>5.188115</td>\n",
       "    </tr>\n",
       "    <tr>\n",
       "      <th>7</th>\n",
       "      <td>148881</td>\n",
       "      <td>World of Tomorrow (2015)</td>\n",
       "      <td>Animation|Comedy</td>\n",
       "      <td>4.681478</td>\n",
       "    </tr>\n",
       "    <tr>\n",
       "      <th>8</th>\n",
       "      <td>27563</td>\n",
       "      <td>Happiness of the Katakuris, The (Katakuri-ke n...</td>\n",
       "      <td>Comedy|Horror|Musical</td>\n",
       "      <td>4.477883</td>\n",
       "    </tr>\n",
       "    <tr>\n",
       "      <th>9</th>\n",
       "      <td>58301</td>\n",
       "      <td>Funny Games U.S. (2007)</td>\n",
       "      <td>Drama|Thriller</td>\n",
       "      <td>4.461045</td>\n",
       "    </tr>\n",
       "  </tbody>\n",
       "</table>\n",
       "</div>"
      ],
      "text/plain": [
       "   movieId                                              title  \\\n",
       "0     3379                                On the Beach (1959)   \n",
       "1     6201                                   Lady Jane (1986)   \n",
       "2    68945  Neon Genesis Evangelion: Death & Rebirth (Shin...   \n",
       "3   104875                 History of Future Folk, The (2012)   \n",
       "4     6818                 Come and See (Idi i smotri) (1985)   \n",
       "5    96004  Dragon Ball Z: The History of Trunks (Doragon ...   \n",
       "6    40491  Match Factory Girl, The (Tulitikkutehtaan tytt...   \n",
       "7   148881                           World of Tomorrow (2015)   \n",
       "8    27563  Happiness of the Katakuris, The (Katakuri-ke n...   \n",
       "9    58301                            Funny Games U.S. (2007)   \n",
       "\n",
       "                            genres  prediction  \n",
       "0                            Drama    4.678715  \n",
       "1                    Drama|Romance    4.407306  \n",
       "2  Action|Animation|Mystery|Sci-Fi    4.678715  \n",
       "3  Adventure|Comedy|Musical|Sci-Fi    4.521430  \n",
       "4                        Drama|War    5.128464  \n",
       "5       Action|Adventure|Animation    4.501197  \n",
       "6                     Comedy|Drama    5.188115  \n",
       "7                 Animation|Comedy    4.681478  \n",
       "8            Comedy|Horror|Musical    4.477883  \n",
       "9                   Drama|Thriller    4.461045  "
      ]
     },
     "execution_count": 23,
     "metadata": {},
     "output_type": "execute_result"
    }
   ],
   "source": [
    "print('Recommendations for user 133:')\n",
    "recommendMovies(best_model, 133, 10).toPandas()"
   ]
  },
  {
   "cell_type": "code",
   "execution_count": null,
   "metadata": {},
   "outputs": [],
   "source": []
  }
 ],
 "metadata": {
  "kernelspec": {
   "display_name": "Python 3",
   "language": "python",
   "name": "python3"
  },
  "language_info": {
   "codemirror_mode": {
    "name": "ipython",
    "version": 3
   },
   "file_extension": ".py",
   "mimetype": "text/x-python",
   "name": "python",
   "nbconvert_exporter": "python",
   "pygments_lexer": "ipython3",
   "version": "3.6.5"
  },
  "varInspector": {
   "cols": {
    "lenName": 16,
    "lenType": 16,
    "lenVar": 40
   },
   "kernels_config": {
    "python": {
     "delete_cmd_postfix": "",
     "delete_cmd_prefix": "del ",
     "library": "var_list.py",
     "varRefreshCmd": "print(var_dic_list())"
    },
    "r": {
     "delete_cmd_postfix": ") ",
     "delete_cmd_prefix": "rm(",
     "library": "var_list.r",
     "varRefreshCmd": "cat(var_dic_list()) "
    }
   },
   "types_to_exclude": [
    "module",
    "function",
    "builtin_function_or_method",
    "instance",
    "_Feature"
   ],
   "window_display": false
  }
 },
 "nbformat": 4,
 "nbformat_minor": 2
}
